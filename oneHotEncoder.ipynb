{
 "cells": [
  {
   "cell_type": "code",
   "execution_count": 15,
   "id": "3f102361-6f94-4655-9a5e-9a810982226c",
   "metadata": {},
   "outputs": [
    {
     "name": "stdin",
     "output_type": "stream",
     "text": [
      "Enter the path of the dataset C:\\Users\\User\\Downloads\\StudentsPerformance.csv\n"
     ]
    },
    {
     "data": {
      "text/html": [
       "<div>\n",
       "<style scoped>\n",
       "    .dataframe tbody tr th:only-of-type {\n",
       "        vertical-align: middle;\n",
       "    }\n",
       "\n",
       "    .dataframe tbody tr th {\n",
       "        vertical-align: top;\n",
       "    }\n",
       "\n",
       "    .dataframe thead th {\n",
       "        text-align: right;\n",
       "    }\n",
       "</style>\n",
       "<table border=\"1\" class=\"dataframe\">\n",
       "  <thead>\n",
       "    <tr style=\"text-align: right;\">\n",
       "      <th></th>\n",
       "      <th>gender</th>\n",
       "      <th>race/ethnicity</th>\n",
       "      <th>parentaleducation</th>\n",
       "      <th>lunch</th>\n",
       "      <th>test preparation course</th>\n",
       "      <th>math score</th>\n",
       "      <th>reading score</th>\n",
       "      <th>writing score</th>\n",
       "    </tr>\n",
       "  </thead>\n",
       "  <tbody>\n",
       "    <tr>\n",
       "      <th>0</th>\n",
       "      <td>female</td>\n",
       "      <td>group B</td>\n",
       "      <td>bachelor's degree</td>\n",
       "      <td>standard</td>\n",
       "      <td>none</td>\n",
       "      <td>72</td>\n",
       "      <td>72</td>\n",
       "      <td>74</td>\n",
       "    </tr>\n",
       "    <tr>\n",
       "      <th>1</th>\n",
       "      <td>female</td>\n",
       "      <td>group C</td>\n",
       "      <td>some college</td>\n",
       "      <td>standard</td>\n",
       "      <td>completed</td>\n",
       "      <td>69</td>\n",
       "      <td>90</td>\n",
       "      <td>88</td>\n",
       "    </tr>\n",
       "    <tr>\n",
       "      <th>2</th>\n",
       "      <td>female</td>\n",
       "      <td>group B</td>\n",
       "      <td>master's degree</td>\n",
       "      <td>standard</td>\n",
       "      <td>none</td>\n",
       "      <td>90</td>\n",
       "      <td>95</td>\n",
       "      <td>93</td>\n",
       "    </tr>\n",
       "    <tr>\n",
       "      <th>3</th>\n",
       "      <td>male</td>\n",
       "      <td>group A</td>\n",
       "      <td>associate's degree</td>\n",
       "      <td>free/reduced</td>\n",
       "      <td>none</td>\n",
       "      <td>47</td>\n",
       "      <td>57</td>\n",
       "      <td>44</td>\n",
       "    </tr>\n",
       "    <tr>\n",
       "      <th>4</th>\n",
       "      <td>male</td>\n",
       "      <td>group C</td>\n",
       "      <td>some college</td>\n",
       "      <td>standard</td>\n",
       "      <td>none</td>\n",
       "      <td>76</td>\n",
       "      <td>78</td>\n",
       "      <td>75</td>\n",
       "    </tr>\n",
       "  </tbody>\n",
       "</table>\n",
       "</div>"
      ],
      "text/plain": [
       "   gender race/ethnicity   parentaleducation         lunch  \\\n",
       "0  female        group B   bachelor's degree      standard   \n",
       "1  female        group C        some college      standard   \n",
       "2  female        group B     master's degree      standard   \n",
       "3    male        group A  associate's degree  free/reduced   \n",
       "4    male        group C        some college      standard   \n",
       "\n",
       "  test preparation course  math score  reading score  writing score  \n",
       "0                    none          72             72             74  \n",
       "1               completed          69             90             88  \n",
       "2                    none          90             95             93  \n",
       "3                    none          47             57             44  \n",
       "4                    none          76             78             75  "
      ]
     },
     "execution_count": 15,
     "metadata": {},
     "output_type": "execute_result"
    }
   ],
   "source": [
    "#training data used = https://www.kaggle.com/datasets/spscientist/students-performance-in-exams\n",
    "import pandas as pd\n",
    "path=input(\"Enter the path of the dataset\")\n",
    "df=pd.read_csv(path)\n",
    "df.head()"
   ]
  },
  {
   "cell_type": "code",
   "execution_count": 19,
   "id": "0b2dfc59-618a-4a89-959c-228f380a297a",
   "metadata": {},
   "outputs": [],
   "source": [
    "def oneHotEncoder(df):\n",
    "    s = (df.dtypes == 'object')\n",
    "    object_cols = list(s[s].index)\n",
    "    if len(object_cols) == 0:\n",
    "        print(\"No categorical columns found.\")\n",
    "        return df\n",
    "    print(\"The Columns containing Categorical variables are:\",object_cols)\n",
    "\n",
    "    for col in object_cols:\n",
    "        print(f\"The column {col} has {df[col].unique()} as unique values\")\n",
    "        \n",
    "    while True:\n",
    "        print(\"\\nSelect a column to be encoded nominally, or type 'exit' to finish: \")\n",
    "        catCol = input()\n",
    "        if catCol == 'exit':\n",
    "            break\n",
    "        if catCol not in object_cols:\n",
    "            print(f\"{catCol} is not a valid categorical column. Please select a valid column.\")\n",
    "            continue\n",
    "        print(f\"Encoding values for column '{catCol}'\")\n",
    "        df_new = df.reindex(columns = df.columns.tolist() + df[catCol].unique().tolist()).fillna(value=0)\n",
    "        for i, row in df.iterrows():\n",
    "            for unique_value in df[catCol].unique():\n",
    "                if row[catCol] == unique_value:\n",
    "                    df_new.at[i, unique_value] = 1\n",
    "        df_new=df_new.drop(catCol,axis=1)\n",
    "        print(df_new.head(),\"\\nEncoding Complete\\n\",)\n"
   ]
  },
  {
   "cell_type": "code",
   "execution_count": null,
   "id": "a1f0ea62-975c-4916-bd85-620c606d77f6",
   "metadata": {},
   "outputs": [
    {
     "name": "stdout",
     "output_type": "stream",
     "text": [
      "The Columns containing Categorical variables are: ['gender', 'race/ethnicity', 'parentaleducation', 'lunch', 'test preparation course']\n",
      "The column gender has ['female' 'male'] as unique values\n",
      "The column race/ethnicity has ['group B' 'group C' 'group A' 'group D' 'group E'] as unique values\n",
      "The column parentaleducation has [\"bachelor's degree\" 'some college' \"master's degree\" \"associate's degree\"\n",
      " 'high school' 'some high school'] as unique values\n",
      "The column lunch has ['standard' 'free/reduced'] as unique values\n",
      "The column test preparation course has ['none' 'completed'] as unique values\n",
      "\n",
      "Select a column to be encoded nominally, or type 'exit' to finish: \n"
     ]
    },
    {
     "name": "stdin",
     "output_type": "stream",
     "text": [
      " race/ethnicity\n"
     ]
    },
    {
     "name": "stdout",
     "output_type": "stream",
     "text": [
      "Encoding values for column 'race/ethnicity'\n",
      "   gender   parentaleducation         lunch test preparation course  \\\n",
      "0  female   bachelor's degree      standard                    none   \n",
      "1  female        some college      standard               completed   \n",
      "2  female     master's degree      standard                    none   \n",
      "3    male  associate's degree  free/reduced                    none   \n",
      "4    male        some college      standard                    none   \n",
      "\n",
      "   math score  reading score  writing score  group B  group C  group A  \\\n",
      "0          72             72             74      1.0      0.0      0.0   \n",
      "1          69             90             88      0.0      1.0      0.0   \n",
      "2          90             95             93      1.0      0.0      0.0   \n",
      "3          47             57             44      0.0      0.0      1.0   \n",
      "4          76             78             75      0.0      1.0      0.0   \n",
      "\n",
      "   group D  group E  \n",
      "0      0.0      0.0  \n",
      "1      0.0      0.0  \n",
      "2      0.0      0.0  \n",
      "3      0.0      0.0  \n",
      "4      0.0      0.0   \n",
      "Encoding Complete\n",
      "\n",
      "\n",
      "Select a column to be encoded nominally, or type 'exit' to finish: \n"
     ]
    }
   ],
   "source": [
    "oneHotEncoder(df)"
   ]
  },
  {
   "cell_type": "code",
   "execution_count": null,
   "id": "5c6b33fe-c10f-46ce-a437-89321461baed",
   "metadata": {},
   "outputs": [],
   "source": []
  }
 ],
 "metadata": {
  "kernelspec": {
   "display_name": "Python 3 (ipykernel)",
   "language": "python",
   "name": "python3"
  },
  "language_info": {
   "codemirror_mode": {
    "name": "ipython",
    "version": 3
   },
   "file_extension": ".py",
   "mimetype": "text/x-python",
   "name": "python",
   "nbconvert_exporter": "python",
   "pygments_lexer": "ipython3",
   "version": "3.12.5"
  }
 },
 "nbformat": 4,
 "nbformat_minor": 5
}
