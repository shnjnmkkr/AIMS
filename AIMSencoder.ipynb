{
 "cells": [
  {
   "cell_type": "code",
   "execution_count": 10,
   "id": "064da167-2029-4fc0-9a35-b1903be71689",
   "metadata": {},
   "outputs": [
    {
     "data": {
      "text/html": [
       "<div>\n",
       "<style scoped>\n",
       "    .dataframe tbody tr th:only-of-type {\n",
       "        vertical-align: middle;\n",
       "    }\n",
       "\n",
       "    .dataframe tbody tr th {\n",
       "        vertical-align: top;\n",
       "    }\n",
       "\n",
       "    .dataframe thead th {\n",
       "        text-align: right;\n",
       "    }\n",
       "</style>\n",
       "<table border=\"1\" class=\"dataframe\">\n",
       "  <thead>\n",
       "    <tr style=\"text-align: right;\">\n",
       "      <th></th>\n",
       "      <th>gender</th>\n",
       "      <th>race/ethnicity</th>\n",
       "      <th>parentaleducation</th>\n",
       "      <th>lunch</th>\n",
       "      <th>test preparation course</th>\n",
       "      <th>math score</th>\n",
       "      <th>reading score</th>\n",
       "      <th>writing score</th>\n",
       "    </tr>\n",
       "  </thead>\n",
       "  <tbody>\n",
       "    <tr>\n",
       "      <th>0</th>\n",
       "      <td>female</td>\n",
       "      <td>group B</td>\n",
       "      <td>bachelor's degree</td>\n",
       "      <td>standard</td>\n",
       "      <td>none</td>\n",
       "      <td>72</td>\n",
       "      <td>72</td>\n",
       "      <td>74</td>\n",
       "    </tr>\n",
       "    <tr>\n",
       "      <th>1</th>\n",
       "      <td>female</td>\n",
       "      <td>group C</td>\n",
       "      <td>some college</td>\n",
       "      <td>standard</td>\n",
       "      <td>completed</td>\n",
       "      <td>69</td>\n",
       "      <td>90</td>\n",
       "      <td>88</td>\n",
       "    </tr>\n",
       "    <tr>\n",
       "      <th>2</th>\n",
       "      <td>female</td>\n",
       "      <td>group B</td>\n",
       "      <td>master's degree</td>\n",
       "      <td>standard</td>\n",
       "      <td>none</td>\n",
       "      <td>90</td>\n",
       "      <td>95</td>\n",
       "      <td>93</td>\n",
       "    </tr>\n",
       "    <tr>\n",
       "      <th>3</th>\n",
       "      <td>male</td>\n",
       "      <td>group A</td>\n",
       "      <td>associate's degree</td>\n",
       "      <td>free/reduced</td>\n",
       "      <td>none</td>\n",
       "      <td>47</td>\n",
       "      <td>57</td>\n",
       "      <td>44</td>\n",
       "    </tr>\n",
       "    <tr>\n",
       "      <th>4</th>\n",
       "      <td>male</td>\n",
       "      <td>group C</td>\n",
       "      <td>some college</td>\n",
       "      <td>standard</td>\n",
       "      <td>none</td>\n",
       "      <td>76</td>\n",
       "      <td>78</td>\n",
       "      <td>75</td>\n",
       "    </tr>\n",
       "  </tbody>\n",
       "</table>\n",
       "</div>"
      ],
      "text/plain": [
       "   gender race/ethnicity   parentaleducation         lunch  \\\n",
       "0  female        group B   bachelor's degree      standard   \n",
       "1  female        group C        some college      standard   \n",
       "2  female        group B     master's degree      standard   \n",
       "3    male        group A  associate's degree  free/reduced   \n",
       "4    male        group C        some college      standard   \n",
       "\n",
       "  test preparation course  math score  reading score  writing score  \n",
       "0                    none          72             72             74  \n",
       "1               completed          69             90             88  \n",
       "2                    none          90             95             93  \n",
       "3                    none          47             57             44  \n",
       "4                    none          76             78             75  "
      ]
     },
     "execution_count": 10,
     "metadata": {},
     "output_type": "execute_result"
    }
   ],
   "source": [
    "import pandas as pd\n",
    "path =r\"C:\\Users\\User\\Downloads\\StudentsPerformance.csv\"\n",
    "df=pd.read_csv(path)\n",
    "df.head()"
   ]
  },
  {
   "cell_type": "code",
   "execution_count": 14,
   "id": "7c6be4ad-0a32-46ca-86eb-ecfd6dcc936d",
   "metadata": {},
   "outputs": [],
   "source": [
    "def OrdinalEncoder(df):\n",
    "    df_new=df.copy()\n",
    "    mapping={}\n",
    "    s = (df.dtypes == 'object')\n",
    "    object_cols = list(s[s].index)\n",
    "    print(\"The Columns containing Categorical variables are:\",object_cols)\n",
    "    for col in object_cols:\n",
    "        print(f\"The column {col} has {df[col].unique()} as unique values\")\n",
    "    print(\"Select the column having categorical variables to be encoded ordinally: \")\n",
    "    catCol=input()\n",
    "    for col in df[catCol].unique():\n",
    "        print(f\"Enter the encoded value for {col} between 0 (bottom of the hierarchy) to {len(df[catCol].unique())-1}(top of the hierarchy)\")\n",
    "        mapping[col]=input()\n",
    "    df_new[\"parentaleducation\"] = df[\"parentaleducation\"].replace(mapping)\n",
    "    df_new.head()\n"
   ]
  },
  {
   "cell_type": "code",
   "execution_count": null,
   "id": "35f4d3a8-c787-419a-9371-f7d3cc230eca",
   "metadata": {},
   "outputs": [
    {
     "name": "stdout",
     "output_type": "stream",
     "text": [
      "The Columns containing Categorical variables are: ['gender', 'race/ethnicity', 'parentaleducation', 'lunch', 'test preparation course']\n",
      "The column gender has ['female' 'male'] as unique values\n",
      "The column race/ethnicity has ['group B' 'group C' 'group A' 'group D' 'group E'] as unique values\n",
      "The column parentaleducation has [\"bachelor's degree\" 'some college' \"master's degree\" \"associate's degree\"\n",
      " 'high school' 'some high school'] as unique values\n",
      "The column lunch has ['standard' 'free/reduced'] as unique values\n",
      "The column test preparation course has ['none' 'completed'] as unique values\n",
      "Select the column having categorical variables to be encoded ordinally: \n"
     ]
    }
   ],
   "source": [
    "OrdinalEncoder(df)"
   ]
  },
  {
   "cell_type": "code",
   "execution_count": null,
   "id": "cddd8cbc-2d6f-42fb-be4e-bb0574ac93ad",
   "metadata": {},
   "outputs": [],
   "source": []
  }
 ],
 "metadata": {
  "kernelspec": {
   "display_name": "Python 3 (ipykernel)",
   "language": "python",
   "name": "python3"
  },
  "language_info": {
   "codemirror_mode": {
    "name": "ipython",
    "version": 3
   },
   "file_extension": ".py",
   "mimetype": "text/x-python",
   "name": "python",
   "nbconvert_exporter": "python",
   "pygments_lexer": "ipython3",
   "version": "3.12.5"
  }
 },
 "nbformat": 4,
 "nbformat_minor": 5
}
