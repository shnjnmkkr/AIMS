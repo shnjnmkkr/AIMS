{
 "cells": [
  {
   "cell_type": "code",
   "execution_count": 124,
   "id": "04687e0c-df99-48ac-88c4-5405ccea59df",
   "metadata": {},
   "outputs": [],
   "source": [
    "import google.generativeai as genai\n",
    "#This isn't even my api key, Someone sent an ss of their code on the group and I grabbed it😭\n",
    "genai.configure(api_key=\"REDACTED ON GITHUB\")\n",
    "model = genai.GenerativeModel(\"gemini-1.5-flash\")"
   ]
  },
  {
   "cell_type": "code",
   "execution_count": 120,
   "id": "2a42ae89-cbba-4368-8384-d564f0f12cab",
   "metadata": {},
   "outputs": [
    {
     "name": "stdout",
     "output_type": "stream",
     "text": [
      "Let's traverse the word \"strawberry\":\n",
      "\n",
      "1. **S** - Counter remains 0\n",
      "2. **T** - Counter remains 0\n",
      "3. **R** - Counter becomes 1\n",
      "4. **A** - Counter remains 1\n",
      "5. **W** - Counter remains 1\n",
      "6. **B** - Counter remains 1\n",
      "7. **E** - Counter remains 1\n",
      "8. **R** - Counter becomes 2\n",
      "9. **R** - Counter becomes 3\n",
      "10. **Y** - Counter remains 3\n",
      "\n",
      "The final value of the counter is **three**.\n",
      "\n"
     ]
    }
   ],
   "source": [
    "response = model.generate_content(\"\"\"Write out the word strawberry and traverse each and every letter of the word starting from s, update the counter \n",
    "everytime the letter r is encountered, now what would bet the final value of the counter (in words) or you can say the number of rs in strawberry?\"\"\")\n",
    "print(response.text)"
   ]
  },
  {
   "cell_type": "code",
   "execution_count": 121,
   "id": "9212e37f-2f78-40b4-bb9f-76fcabce1721",
   "metadata": {},
   "outputs": [
    {
     "name": "stdout",
     "output_type": "stream",
     "text": [
      "In this new mathematical framework, 2 + 2 = 5.  The problem explicitly states that combining two groups of two results in five.\n",
      "\n"
     ]
    }
   ],
   "source": [
    "response = model.generate_content(\"\"\"In a new mathematical framework, combining two groups of two items results in a group of five items. \n",
    "Based on this system, what is 2+2?\"\"\")\n",
    "print(response.text)"
   ]
  },
  {
   "cell_type": "code",
   "execution_count": 122,
   "id": "fbe17258-8ee6-4e20-8e0e-05177cda95d3",
   "metadata": {},
   "outputs": [
    {
     "name": "stdin",
     "output_type": "stream",
     "text": [
      "Enter your question:  A 10 m long ladder is leaning against a wall. The bottom of the ladder is 6 m from the base of where the wall meets the ground. At what height from the ground does the top of the ladder lean against the wall?\n"
     ]
    },
    {
     "name": "stdout",
     "output_type": "stream",
     "text": [
      "c\n",
      "Final Answer: The ladder, the wall, and the ground form a right-angled triangle.  The ladder is the hypotenuse (10m), the distance from the wall to the base of the ladder is one leg (6m), and the height up the wall is the other leg (which we'll call 'h').\n",
      "\n",
      "Using the Pythagorean theorem (a² + b² = c²):\n",
      "\n",
      "6² + h² = 10²\n",
      "\n",
      "36 + h² = 100\n",
      "\n",
      "h² = 100 - 36\n",
      "\n",
      "h² = 64\n",
      "\n",
      "h = √64\n",
      "\n",
      "h = 8\n",
      "\n",
      "The top of the ladder leans against the wall at a height of **8 meters**.\n"
     ]
    }
   ],
   "source": [
    "formulas = \"\"\"\n",
    "Formula a: Area of a circle = π * r^2\n",
    "Formula b: Quadratic formula = (-b ± √(b^2 - 4ac)) / 2a\n",
    "Formula c: Pythagorean theorem = a^2 + b^2 = c^2\n",
    "\"\"\"\n",
    "def sasta_agent(user_question):\n",
    "    prompt_1 = f\"\"\"\n",
    "    You are an expert mathematician. Based on the formulas below, choose the most relevant one for solving the question:\n",
    "    {formulas}\n",
    "    Question: {user_question}\n",
    "    Answer with only 'a', 'b', or 'c'.\"\"\"\n",
    "    response1 = model.generate_content(prompt_1)\n",
    "    selected_formula=response1.text.strip()\n",
    "    print(selected_formula)\n",
    "    if selected_formula == \"a\":\n",
    "        prompt_2 = f\"Using the formula π * r^2, solve the question: {user_question}\"\n",
    "    elif selected_formula == \"b\":\n",
    "        prompt_2 = f\"Using the quadratic formula, solve the question: {user_question}\"\n",
    "    elif selected_formula == \"c\":\n",
    "        prompt_2 = f\"Using the Pythagorean theorem, solve the question: {user_question}\"\n",
    "    else:\n",
    "        raise ValueError(\"Invalid formula selection by the model. Please check the response.\")\n",
    "\n",
    "    prompt_2 = model.generate_content(prompt_2)\n",
    "    return prompt_2.text.strip()\n",
    "\n",
    "user_question = input(\"Enter your question: \")\n",
    "final_answer=sasta_agent(user_question)\n",
    "\n",
    "print(\"Final Answer:\", final_answer)\n"
   ]
  },
  {
   "cell_type": "code",
   "execution_count": 123,
   "id": "87de31ab-2ded-49dc-9aa9-2a277b727531",
   "metadata": {},
   "outputs": [
    {
     "name": "stdout",
     "output_type": "stream",
     "text": [
      "Generated Riddle: I have cities, but no houses; forests, but no trees; and water, but no fish.  What am I?\n",
      "Riddle Solution: A map.\n",
      "\n",
      "Final Output:\n",
      "Riddle: I have cities, but no houses; forests, but no trees; and water, but no fish.  What am I?\n",
      "Solution: A map.\n",
      "Feedback: This is a classic riddle, and its strength lies in its elegant simplicity and use of familiar imagery.  The contrasting elements – cities without houses, forests without trees, water without fish – immediately create a sense of intriguing paradox that draws the solver in.  The solution, \"a map,\" is satisfyingly clever and fits the clues well.\n",
      "\n",
      "However, the riddle does have some weaknesses:\n",
      "\n",
      "* **Overly Familiar:**  Many people have encountered this, or very similar, riddles before.  Its predictability diminishes the sense of discovery.\n",
      "* **Slightly Unfair Clues:** While the clues are paradoxical, they're not *sufficiently* misleading.  The solver might guess \"a map\" relatively quickly without much mental effort. The riddle relies more on recognition than genuine deduction.\n",
      "* **Lack of Misdirection:**  There's no element that might lead the solver down a wrong path, making it a bit too straightforward.\n",
      "\n",
      "\n",
      "Here are some suggestions for improvement:\n",
      "\n",
      "**Option 1 (Increasing Difficulty):**\n",
      "\n",
      "* **Riddle:** I possess bustling metropolises, yet not a single dwelling stands.  I boast vast, verdant expanses, but bear no living wood.  My rivers flow endlessly, but hold no life within their currents. What am I?\n",
      "\n",
      "This version uses more evocative language, making it slightly more poetic and less immediately obvious.\n",
      "\n",
      "**Option 2 (Adding Misdirection):**\n",
      "\n",
      "* **Riddle:** I have cities filled with dreams, but no sleepers reside. I contain forests untouched by time, yet no living creature treads. My waters are boundless, yet hold no creatures to call them home. What am I?\n",
      "\n",
      "This version introduces the concept of \"dreams\" and \"untouched by time,\" potentially leading the solver to consider more abstract solutions before arriving at \"a map.\"\n",
      "\n",
      "**Option 3 (Changing the Focus):**\n",
      "\n",
      "Instead of focusing solely on the absence of things, a new riddle could emphasize the *representation* aspect of a map. For example:\n",
      "\n",
      "* **Riddle:** I capture the world in miniature, representing life without containing it.  I show the paths of rivers and the locations of cities, yet I have no life of my own. What am I?\n",
      "\n",
      "\n",
      "In general, to make this type of riddle stronger, focus on:\n",
      "\n",
      "* **More evocative language:** Use richer descriptions to engage the solver's imagination.\n",
      "* **Subtle misdirection:** Include clues that might lead to alternative, less obvious solutions.\n",
      "* **Strengthening the paradoxical elements:**  Make the contrast between the description and the solution even more jarring.\n",
      "\n",
      "\n",
      "By incorporating these suggestions, a similar riddle can be crafted that maintains its elegance while presenting a more engaging and challenging puzzle for the solver.\n"
     ]
    }
   ],
   "source": [
    "def riddle_agent():\n",
    "    prompt_1 = \"\"\"You are a creative storyteller. Create a short riddle that involves logical thinking, observation, or problem-solving.\n",
    "    Keep it simple and clear. End your riddle with 'What am I?'\"\"\"\n",
    "    riddle_response = model.generate_content(prompt_1)\n",
    "    riddle = riddle_response.text.strip()\n",
    "    print(\"Generated Riddle:\", riddle)\n",
    "    prompt_2 = f\"\"\"You are a genius problem solver. Solve the following riddle and provide your answer:\n",
    "    Riddle: {riddle}\"\"\"\n",
    "    solution_response = model.generate_content(prompt_2)\n",
    "    solution = solution_response.text.strip()\n",
    "    print(\"Riddle Solution:\", solution)\n",
    "    prompt_3 = f\"\"\"\n",
    "    You are a riddle critic. Provide constructive feedback on the following riddle. \n",
    "    Mention its strengths and weaknesses, and suggest how it could be improved if needed:\n",
    "    Riddle: {riddle}\n",
    "    Solution: {solution}\n",
    "    \"\"\"\n",
    "    feedback_response = model.generate_content(prompt_3)\n",
    "    feedback = feedback_response.text.strip()\n",
    "    return riddle, solution, feedback\n",
    "riddle, solution, feedback = riddle_agent()\n",
    "print(\"\\nFinal Output:\")\n",
    "print(\"Riddle:\", riddle)\n",
    "print(\"Solution:\", solution)\n",
    "print(\"Feedback:\", feedback)\n"
   ]
  },
  {
   "cell_type": "code",
   "execution_count": null,
   "id": "c042784e-4d90-4bee-aa21-ee1bf0e991ec",
   "metadata": {},
   "outputs": [],
   "source": []
  },
  {
   "cell_type": "code",
   "execution_count": null,
   "id": "827eb555-63d6-4b2a-b2f8-03800bce1a44",
   "metadata": {},
   "outputs": [],
   "source": []
  },
  {
   "cell_type": "code",
   "execution_count": null,
   "id": "b324aebb-6386-40d1-b29d-8d78d0f95aa3",
   "metadata": {},
   "outputs": [],
   "source": []
  }
 ],
 "metadata": {
  "kernelspec": {
   "display_name": "Python 3 (ipykernel)",
   "language": "python",
   "name": "python3"
  },
  "language_info": {
   "codemirror_mode": {
    "name": "ipython",
    "version": 3
   },
   "file_extension": ".py",
   "mimetype": "text/x-python",
   "name": "python",
   "nbconvert_exporter": "python",
   "pygments_lexer": "ipython3",
   "version": "3.12.5"
  }
 },
 "nbformat": 4,
 "nbformat_minor": 5
}
